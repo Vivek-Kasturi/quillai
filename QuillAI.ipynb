{
  "nbformat": 4,
  "nbformat_minor": 0,
  "metadata": {
    "colab": {
      "provenance": []
    },
    "kernelspec": {
      "name": "python3",
      "display_name": "Python 3"
    },
    "language_info": {
      "name": "python"
    }
  },
  "cells": [
    {
      "cell_type": "code",
      "source": [
        "!pip install --upgrade openai"
      ],
      "metadata": {
        "id": "ctjZIiXPTIw1",
        "outputId": "25bf26e8-31f9-4754-c404-4efb9d0cae08",
        "colab": {
          "base_uri": "https://localhost:8080/"
        }
      },
      "execution_count": null,
      "outputs": [
        {
          "output_type": "stream",
          "name": "stdout",
          "text": [
            "Requirement already satisfied: openai in /usr/local/lib/python3.10/dist-packages (0.27.0)\n",
            "Collecting openai\n",
            "  Using cached openai-1.53.0-py3-none-any.whl.metadata (24 kB)\n",
            "Requirement already satisfied: anyio<5,>=3.5.0 in /usr/local/lib/python3.10/dist-packages (from openai) (3.7.1)\n",
            "Requirement already satisfied: distro<2,>=1.7.0 in /usr/local/lib/python3.10/dist-packages (from openai) (1.9.0)\n",
            "Requirement already satisfied: httpx<1,>=0.23.0 in /usr/local/lib/python3.10/dist-packages (from openai) (0.27.2)\n",
            "Requirement already satisfied: jiter<1,>=0.4.0 in /usr/local/lib/python3.10/dist-packages (from openai) (0.6.1)\n",
            "Requirement already satisfied: pydantic<3,>=1.9.0 in /usr/local/lib/python3.10/dist-packages (from openai) (2.9.2)\n",
            "Requirement already satisfied: sniffio in /usr/local/lib/python3.10/dist-packages (from openai) (1.3.1)\n",
            "Requirement already satisfied: tqdm>4 in /usr/local/lib/python3.10/dist-packages (from openai) (4.66.6)\n",
            "Requirement already satisfied: typing-extensions<5,>=4.11 in /usr/local/lib/python3.10/dist-packages (from openai) (4.12.2)\n",
            "Requirement already satisfied: idna>=2.8 in /usr/local/lib/python3.10/dist-packages (from anyio<5,>=3.5.0->openai) (3.10)\n",
            "Requirement already satisfied: exceptiongroup in /usr/local/lib/python3.10/dist-packages (from anyio<5,>=3.5.0->openai) (1.2.2)\n",
            "Requirement already satisfied: certifi in /usr/local/lib/python3.10/dist-packages (from httpx<1,>=0.23.0->openai) (2024.8.30)\n",
            "Requirement already satisfied: httpcore==1.* in /usr/local/lib/python3.10/dist-packages (from httpx<1,>=0.23.0->openai) (1.0.6)\n",
            "Requirement already satisfied: h11<0.15,>=0.13 in /usr/local/lib/python3.10/dist-packages (from httpcore==1.*->httpx<1,>=0.23.0->openai) (0.14.0)\n",
            "Requirement already satisfied: annotated-types>=0.6.0 in /usr/local/lib/python3.10/dist-packages (from pydantic<3,>=1.9.0->openai) (0.7.0)\n",
            "Requirement already satisfied: pydantic-core==2.23.4 in /usr/local/lib/python3.10/dist-packages (from pydantic<3,>=1.9.0->openai) (2.23.4)\n",
            "Using cached openai-1.53.0-py3-none-any.whl (387 kB)\n",
            "Installing collected packages: openai\n",
            "  Attempting uninstall: openai\n",
            "    Found existing installation: openai 0.27.0\n",
            "    Uninstalling openai-0.27.0:\n",
            "      Successfully uninstalled openai-0.27.0\n",
            "Successfully installed openai-1.53.0\n"
          ]
        }
      ]
    },
    {
      "cell_type": "code",
      "source": [
        "!pip install openai==0.27.0"
      ],
      "metadata": {
        "id": "aAWmNNSqTImt",
        "outputId": "10a2a6ba-cb66-47ae-f3c6-d23c071206d9",
        "colab": {
          "base_uri": "https://localhost:8080/"
        }
      },
      "execution_count": null,
      "outputs": [
        {
          "output_type": "stream",
          "name": "stdout",
          "text": [
            "Collecting openai==0.27.0\n",
            "  Using cached openai-0.27.0-py3-none-any.whl.metadata (13 kB)\n",
            "Requirement already satisfied: requests>=2.20 in /usr/local/lib/python3.10/dist-packages (from openai==0.27.0) (2.32.3)\n",
            "Requirement already satisfied: tqdm in /usr/local/lib/python3.10/dist-packages (from openai==0.27.0) (4.66.6)\n",
            "Requirement already satisfied: aiohttp in /usr/local/lib/python3.10/dist-packages (from openai==0.27.0) (3.10.10)\n",
            "Requirement already satisfied: charset-normalizer<4,>=2 in /usr/local/lib/python3.10/dist-packages (from requests>=2.20->openai==0.27.0) (3.4.0)\n",
            "Requirement already satisfied: idna<4,>=2.5 in /usr/local/lib/python3.10/dist-packages (from requests>=2.20->openai==0.27.0) (3.10)\n",
            "Requirement already satisfied: urllib3<3,>=1.21.1 in /usr/local/lib/python3.10/dist-packages (from requests>=2.20->openai==0.27.0) (2.2.3)\n",
            "Requirement already satisfied: certifi>=2017.4.17 in /usr/local/lib/python3.10/dist-packages (from requests>=2.20->openai==0.27.0) (2024.8.30)\n",
            "Requirement already satisfied: aiohappyeyeballs>=2.3.0 in /usr/local/lib/python3.10/dist-packages (from aiohttp->openai==0.27.0) (2.4.3)\n",
            "Requirement already satisfied: aiosignal>=1.1.2 in /usr/local/lib/python3.10/dist-packages (from aiohttp->openai==0.27.0) (1.3.1)\n",
            "Requirement already satisfied: attrs>=17.3.0 in /usr/local/lib/python3.10/dist-packages (from aiohttp->openai==0.27.0) (24.2.0)\n",
            "Requirement already satisfied: frozenlist>=1.1.1 in /usr/local/lib/python3.10/dist-packages (from aiohttp->openai==0.27.0) (1.5.0)\n",
            "Requirement already satisfied: multidict<7.0,>=4.5 in /usr/local/lib/python3.10/dist-packages (from aiohttp->openai==0.27.0) (6.1.0)\n",
            "Requirement already satisfied: yarl<2.0,>=1.12.0 in /usr/local/lib/python3.10/dist-packages (from aiohttp->openai==0.27.0) (1.17.0)\n",
            "Requirement already satisfied: async-timeout<5.0,>=4.0 in /usr/local/lib/python3.10/dist-packages (from aiohttp->openai==0.27.0) (4.0.3)\n",
            "Requirement already satisfied: typing-extensions>=4.1.0 in /usr/local/lib/python3.10/dist-packages (from multidict<7.0,>=4.5->aiohttp->openai==0.27.0) (4.12.2)\n",
            "Requirement already satisfied: propcache>=0.2.0 in /usr/local/lib/python3.10/dist-packages (from yarl<2.0,>=1.12.0->aiohttp->openai==0.27.0) (0.2.0)\n",
            "Using cached openai-0.27.0-py3-none-any.whl (70 kB)\n",
            "Installing collected packages: openai\n",
            "  Attempting uninstall: openai\n",
            "    Found existing installation: openai 1.53.0\n",
            "    Uninstalling openai-1.53.0:\n",
            "      Successfully uninstalled openai-1.53.0\n",
            "Successfully installed openai-0.27.0\n"
          ]
        }
      ]
    },
    {
      "cell_type": "code",
      "source": [
        "!pip install openai"
      ],
      "metadata": {
        "id": "DEo3Hch8RGPe",
        "outputId": "cac98f1d-db2a-4ae3-89bc-f0c8ba1d60ed",
        "colab": {
          "base_uri": "https://localhost:8080/"
        }
      },
      "execution_count": null,
      "outputs": [
        {
          "output_type": "stream",
          "name": "stdout",
          "text": [
            "Requirement already satisfied: openai in /usr/local/lib/python3.10/dist-packages (0.27.0)\n",
            "Requirement already satisfied: requests>=2.20 in /usr/local/lib/python3.10/dist-packages (from openai) (2.32.3)\n",
            "Requirement already satisfied: tqdm in /usr/local/lib/python3.10/dist-packages (from openai) (4.66.6)\n",
            "Requirement already satisfied: aiohttp in /usr/local/lib/python3.10/dist-packages (from openai) (3.10.10)\n",
            "Requirement already satisfied: charset-normalizer<4,>=2 in /usr/local/lib/python3.10/dist-packages (from requests>=2.20->openai) (3.4.0)\n",
            "Requirement already satisfied: idna<4,>=2.5 in /usr/local/lib/python3.10/dist-packages (from requests>=2.20->openai) (3.10)\n",
            "Requirement already satisfied: urllib3<3,>=1.21.1 in /usr/local/lib/python3.10/dist-packages (from requests>=2.20->openai) (2.2.3)\n",
            "Requirement already satisfied: certifi>=2017.4.17 in /usr/local/lib/python3.10/dist-packages (from requests>=2.20->openai) (2024.8.30)\n",
            "Requirement already satisfied: aiohappyeyeballs>=2.3.0 in /usr/local/lib/python3.10/dist-packages (from aiohttp->openai) (2.4.3)\n",
            "Requirement already satisfied: aiosignal>=1.1.2 in /usr/local/lib/python3.10/dist-packages (from aiohttp->openai) (1.3.1)\n",
            "Requirement already satisfied: attrs>=17.3.0 in /usr/local/lib/python3.10/dist-packages (from aiohttp->openai) (24.2.0)\n",
            "Requirement already satisfied: frozenlist>=1.1.1 in /usr/local/lib/python3.10/dist-packages (from aiohttp->openai) (1.5.0)\n",
            "Requirement already satisfied: multidict<7.0,>=4.5 in /usr/local/lib/python3.10/dist-packages (from aiohttp->openai) (6.1.0)\n",
            "Requirement already satisfied: yarl<2.0,>=1.12.0 in /usr/local/lib/python3.10/dist-packages (from aiohttp->openai) (1.17.0)\n",
            "Requirement already satisfied: async-timeout<5.0,>=4.0 in /usr/local/lib/python3.10/dist-packages (from aiohttp->openai) (4.0.3)\n",
            "Requirement already satisfied: typing-extensions>=4.1.0 in /usr/local/lib/python3.10/dist-packages (from multidict<7.0,>=4.5->aiohttp->openai) (4.12.2)\n",
            "Requirement already satisfied: propcache>=0.2.0 in /usr/local/lib/python3.10/dist-packages (from yarl<2.0,>=1.12.0->aiohttp->openai) (0.2.0)\n"
          ]
        }
      ]
    },
    {
      "cell_type": "code",
      "source": [
        "!pip install streamlit"
      ],
      "metadata": {
        "id": "Czf45-RTU_28"
      },
      "execution_count": null,
      "outputs": []
    },
    {
      "cell_type": "code",
      "source": [
        "import streamlit as st\n",
        "import openai\n",
        "\n",
        "# Set your OpenAI API key\n",
        "openai.api_key = \"your_api_Key\"  # Replace with your actual API key\n",
        "\n",
        "# Function to create the customized prompt\n",
        "def generate_customized_prompt(content_type, theme, characters=None, tone=\"creative\", format_requirements=None, word_count=None, special_instructions=None):\n",
        "    prompt = f\"You are an expert writer who crafts {content_type} with high creativity and originality. \"\n",
        "    prompt += f\"The theme is '{theme}'. \"\n",
        "\n",
        "    if characters:\n",
        "        prompt += f\"Characters include: {characters}. \"\n",
        "    if word_count:\n",
        "        prompt += f\"The piece should be around {word_count} words. \"\n",
        "    if tone:\n",
        "        prompt += f\"Maintain a {tone} tone throughout. \"\n",
        "    if format_requirements:\n",
        "        prompt += f\"Ensure the following formatting: {format_requirements}. \"\n",
        "    if special_instructions:\n",
        "        prompt += f\"Special instructions: {special_instructions}. \"\n",
        "\n",
        "    prompt += \"Start writing now and ensure the output is unique and engaging.\"\n",
        "    return prompt\n",
        "\n",
        "# Function to call OpenAI API\n",
        "def generate_content(prompt, max_tokens=750):\n",
        "    try:\n",
        "        response = openai.ChatCompletion.create(\n",
        "            model=\"gpt-4\",\n",
        "            messages=[\n",
        "                {\"role\": \"system\", \"content\": \"You are an advanced writing assistant.\"},\n",
        "                {\"role\": \"user\", \"content\": prompt}\n",
        "            ],\n",
        "            max_tokens=max_tokens,\n",
        "            temperature=0.7,\n",
        "            top_p=1.0,\n",
        "            frequency_penalty=0.5,\n",
        "            presence_penalty=0.3\n",
        "        )\n",
        "        return response.choices[0].message['content'].strip()\n",
        "    except Exception as e:\n",
        "        return f\"An error occurred: {str(e)}\"\n",
        "\n",
        "# Streamlit UI layout\n",
        "st.title(\"Dynamic AI Writing Tool\")\n",
        "st.write(\"Generate customized content based on user input. Create poems, stories, speeches, and more!\")\n",
        "\n",
        "# Collect user inputs\n",
        "content_type = st.text_input(\"Content Type (e.g., 'poem', 'story')\")\n",
        "theme = st.text_input(\"Theme (e.g., 'farewell for a mentor')\")\n",
        "characters = st.text_input(\"Characters (optional)\")\n",
        "tone = st.text_input(\"Tone (e.g., 'appreciative', 'humorous')\")\n",
        "format_requirements = st.text_input(\"Format Requirements (e.g., 'Each line starts with a letter spelling XYZ')\")\n",
        "word_count = st.number_input(\"Word Count (optional)\", min_value=1, step=1, value=100)\n",
        "special_instructions = st.text_area(\"Special Instructions (optional)\")\n",
        "\n",
        "# Generate content button\n",
        "if st.button(\"Generate Content\"):\n",
        "    if content_type and theme:\n",
        "        prompt = generate_customized_prompt(\n",
        "            content_type=content_type,\n",
        "            theme=theme,\n",
        "            characters=characters,\n",
        "            tone=tone,\n",
        "            format_requirements=format_requirements,\n",
        "            word_count=int(word_count) if word_count else None,\n",
        "            special_instructions=special_instructions\n",
        "        )\n",
        "        result = generate_content(prompt)\n",
        "        st.write(\"### Generated Content:\")\n",
        "        st.write(result)\n",
        "    else:\n",
        "        st.warning(\"Please fill in at least the content type and theme.\")\n",
        "\n",
        "# Run the app using `streamlit run app.py`"
      ],
      "metadata": {
        "colab": {
          "base_uri": "https://localhost:8080/"
        },
        "id": "rmpxsjcEEKV8",
        "outputId": "50f84b6a-970f-4261-b74c-fb2654dac571"
      },
      "execution_count": null,
      "outputs": [
        {
          "output_type": "stream",
          "name": "stdout",
          "text": [
            "Enter the type of content (e.g., 'acrostic poem', 'story'): poem\n",
            "Enter the theme or topic: sky\n",
            "Enter any characters to include (or press Enter to skip): \n",
            "Enter the tone (e.g., 'appreciative', 'humorous', 'serious'): appreciative\n",
            "Enter any specific format requirements (e.g., 'Each line starts with a letter spelling XYZ'): \n",
            "Enter the word count (or press Enter for default): \n",
            "Enter any special instructions (or press Enter to skip): \n",
            "\n",
            "Generated Content:\n",
            "\n",
            "In the grand canvas of divine creation, there lies a tale,\n",
            "A tale of the sky, that unfurls in hues, so frail.\n",
            "The azure expanse above us all, a silent ode to infinity,\n",
            "A serenade of colors, an opus of divine artistry.\n",
            "\n",
            "Beneath its vast and endless dome, we find our humble abode,\n",
            "Where daylight paints a cerulean dream, on night's monochrome ode.\n",
            "It cradles the gold orb at dawn, with a soft and gentle kiss,\n",
            "And summons the silver moon at dusk, in tranquil twilight bliss.\n",
            "\n",
            "Look up! See gallant eagles soar in the cerise morning light,\n",
            "As fluffy clouds meander by like dreams taking flight.\n",
            "The sky is where imagination finds its boundless home,\n",
            "A celestial sea where comets sail and planets freely roam.\n",
            "\n",
            "It’s a theatre for the dancing stars that twinkle to delight,\n",
            "Etching constellations far and wide in the stillness of night.\n",
            "Their shimmering whispers echo down through eternity's chasm,\n",
            "Weaving tales of timeless love and cosmic enthusiasm.\n",
            "\n",
            "Oh Sky! You are both stage and screen for nature's grand display.\n",
            "From fiery sunsets' splendid hues to Aurora's spectral ballet.\n",
            "You cradle both storm's wild fury and calm’s soothing lullaby,\n",
            "An ever-changing masterpiece from an unseen artist's dye.\n",
            "\n",
            "Witness to every epoch passed since time itself took flight.\n",
            "An unwritten parchment bearing history’s quiet might. \n",
            "Yet amid your overwhelming sprawl, there’s intimate embrace,\n",
            "A silent reassurance that we all have our place.\n",
            "\n",
            "So let us honor this boundless vault with more than just a glance;\n",
            "Let it fuel our dreams, stir our souls into an inspired dance. \n",
            "For within its great expanse we learn life’s most beautiful decree -\n",
            "That beneath the boundless sky above, we're all forever free.\n"
          ]
        }
      ]
    },
    {
      "cell_type": "code",
      "source": [],
      "metadata": {
        "id": "fB2VntONRXPZ"
      },
      "execution_count": null,
      "outputs": []
    }
  ]
}